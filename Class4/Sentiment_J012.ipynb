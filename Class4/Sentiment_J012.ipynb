{
  "nbformat": 4,
  "nbformat_minor": 0,
  "metadata": {
    "colab": {
      "name": "Sentiment_J012.ipynb",
      "provenance": []
    },
    "kernelspec": {
      "name": "python3",
      "display_name": "Python 3"
    },
    "accelerator": "GPU"
  },
  "cells": [
    {
      "cell_type": "code",
      "metadata": {
        "id": "FOMwGinITnDF",
        "colab_type": "code",
        "colab": {}
      },
      "source": [
        "amazondata = pd.read_json(\"http://snap.stanford.edu/data/amazon/productGraph/categoryFiles/reviews_Office_Products_5.json.gz\",lines=True)\n",
        "dataframe1=pd.DataFrame(amazondata)\n"
      ],
      "execution_count": 0,
      "outputs": []
    },
    {
      "cell_type": "code",
      "metadata": {
        "id": "2Qtjgls2Ua-z",
        "colab_type": "code",
        "colab": {}
      },
      "source": [
        "twitterdata=pd.read_csv(\"https://raw.githubusercontent.com/zfz/twitter_corpus/master/full-corpus.csv\")\n",
        "dataframe2=pd.DataFrame(twitterdata)"
      ],
      "execution_count": 0,
      "outputs": []
    },
    {
      "cell_type": "code",
      "metadata": {
        "id": "zOvjOYXrUvX_",
        "colab_type": "code",
        "colab": {
          "base_uri": "https://localhost:8080/",
          "height": 50
        },
        "outputId": "f7de6196-8dba-49a1-fa55-97b9ff4b251f"
      },
      "source": [
        "import pandas as pd\n",
        "from textblob import TextBlob\n",
        "import nltk\n",
        "from nltk.sentiment.vader import SentimentIntensityAnalyzer\n",
        "nltk.download('vader_lexicon')\n",
        "from sklearn.metrics import confusion_matrix\n"
      ],
      "execution_count": 22,
      "outputs": [
        {
          "output_type": "stream",
          "text": [
            "[nltk_data] Downloading package vader_lexicon to /root/nltk_data...\n",
            "[nltk_data]   Package vader_lexicon is already up-to-date!\n"
          ],
          "name": "stdout"
        }
      ]
    },
    {
      "cell_type": "code",
      "metadata": {
        "id": "t5TqH6JHWRZj",
        "colab_type": "code",
        "colab": {}
      },
      "source": [
        "def textblobpolarity(str):\n",
        "  return TextBlob(str).sentiment.polarity"
      ],
      "execution_count": 0,
      "outputs": []
    },
    {
      "cell_type": "code",
      "metadata": {
        "id": "eDtZT903W4Ke",
        "colab_type": "code",
        "colab": {}
      },
      "source": [
        "dataframe1['ReviewBlobPolarity']=dataframe1['reviewText'].apply(textblobpolarity)"
      ],
      "execution_count": 0,
      "outputs": []
    },
    {
      "cell_type": "code",
      "metadata": {
        "id": "Yhcez9n7dhwo",
        "colab_type": "code",
        "colab": {
          "base_uri": "https://localhost:8080/",
          "height": 218
        },
        "outputId": "2d0fbc88-12df-4013-d951-332246d4e3f3"
      },
      "source": [
        "dataframe1.ReviewBlobPolarity"
      ],
      "execution_count": 11,
      "outputs": [
        {
          "output_type": "execute_result",
          "data": {
            "text/plain": [
              "0        0.180000\n",
              "1        0.170939\n",
              "2        0.204091\n",
              "3        0.214217\n",
              "4        0.350000\n",
              "           ...   \n",
              "53253    0.197628\n",
              "53254    0.212514\n",
              "53255    0.120779\n",
              "53256    0.464940\n",
              "53257    0.281190\n",
              "Name: ReviewBlobPolarity, Length: 53258, dtype: float64"
            ]
          },
          "metadata": {
            "tags": []
          },
          "execution_count": 11
        }
      ]
    },
    {
      "cell_type": "code",
      "metadata": {
        "id": "olU5K8gJeDjg",
        "colab_type": "code",
        "colab": {}
      },
      "source": [
        "dataframe2['tweetblobpolarity']=dataframe2['TweetText'].apply(textblobpolarity)"
      ],
      "execution_count": 0,
      "outputs": []
    },
    {
      "cell_type": "code",
      "metadata": {
        "id": "1eym4_NueYZA",
        "colab_type": "code",
        "colab": {
          "base_uri": "https://localhost:8080/",
          "height": 218
        },
        "outputId": "910d7982-19df-4c9a-81c2-5a7061f59c97"
      },
      "source": [
        "dataframe2.tweetblobpolarity"
      ],
      "execution_count": 13,
      "outputs": [
        {
          "output_type": "execute_result",
          "data": {
            "text/plain": [
              "0       0.000000\n",
              "1       0.500000\n",
              "2       0.393750\n",
              "3       0.541667\n",
              "4       0.200000\n",
              "          ...   \n",
              "5108    0.000000\n",
              "5109    0.500000\n",
              "5110   -0.250000\n",
              "5111    0.000000\n",
              "5112    0.000000\n",
              "Name: tweetblobpolarity, Length: 5113, dtype: float64"
            ]
          },
          "metadata": {
            "tags": []
          },
          "execution_count": 13
        }
      ]
    },
    {
      "cell_type": "code",
      "metadata": {
        "id": "zZ7xlCJTrcBL",
        "colab_type": "code",
        "colab": {}
      },
      "source": [
        "sa=SentimentIntensityAnalyzer()"
      ],
      "execution_count": 0,
      "outputs": []
    },
    {
      "cell_type": "code",
      "metadata": {
        "id": "mlJlLq8mexfJ",
        "colab_type": "code",
        "colab": {}
      },
      "source": [
        "def sentimentanalyse(str) :\n",
        "  ps=sa.polarity_scores(str)\n",
        "  if ps['compound']>=0.5 :\n",
        "    return 'positive'\n",
        "  if ps['compound']<=-0.5:\n",
        "    return 'negative'\n",
        "  else :\n",
        "    return 'neutral'  \n"
      ],
      "execution_count": 0,
      "outputs": []
    },
    {
      "cell_type": "code",
      "metadata": {
        "id": "t6_gVrdbrPK-",
        "colab_type": "code",
        "colab": {}
      },
      "source": [
        "dataframe2['tweetsentiment']=dataframe2['TweetText'].apply(sentimentanalyse)"
      ],
      "execution_count": 0,
      "outputs": []
    },
    {
      "cell_type": "code",
      "metadata": {
        "id": "9twcnBkkrjpd",
        "colab_type": "code",
        "colab": {
          "base_uri": "https://localhost:8080/",
          "height": 218
        },
        "outputId": "22b01a5e-8b7e-4bec-fc5e-8688a4856f45"
      },
      "source": [
        "dataframe2.tweetsentiment"
      ],
      "execution_count": 21,
      "outputs": [
        {
          "output_type": "execute_result",
          "data": {
            "text/plain": [
              "0        neutral\n",
              "1        neutral\n",
              "2       positive\n",
              "3        neutral\n",
              "4        neutral\n",
              "          ...   \n",
              "5108     neutral\n",
              "5109     neutral\n",
              "5110     neutral\n",
              "5111     neutral\n",
              "5112     neutral\n",
              "Name: tweetsentiment, Length: 5113, dtype: object"
            ]
          },
          "metadata": {
            "tags": []
          },
          "execution_count": 21
        }
      ]
    },
    {
      "cell_type": "code",
      "metadata": {
        "id": "hbDmaExkthBY",
        "colab_type": "code",
        "colab": {
          "base_uri": "https://localhost:8080/",
          "height": 84
        },
        "outputId": "6ea084f7-1ca8-4550-e5fa-266b74a8e77d"
      },
      "source": [
        "matrix=confusion_matrix(dataframe2.Sentiment,dataframe2.tweetsentiment)\n",
        "matrix"
      ],
      "execution_count": 24,
      "outputs": [
        {
          "output_type": "execute_result",
          "data": {
            "text/plain": [
              "array([[   0,   75, 1481,  133],\n",
              "       [   0,  152,  369,   51],\n",
              "       [   0,  104, 1864,  365],\n",
              "       [   0,   18,  256,  245]])"
            ]
          },
          "metadata": {
            "tags": []
          },
          "execution_count": 24
        }
      ]
    }
  ]
}
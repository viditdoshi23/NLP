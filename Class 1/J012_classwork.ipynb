{
 "cells": [
  {
   "cell_type": "code",
   "execution_count": 6,
   "metadata": {},
   "outputs": [],
   "source": [
    "def nth_prime_number(n):\n",
    "    if n==1:    # First Prime Number\n",
    "        return 2\n",
    "    count = 1    # To count till N\n",
    "    num = 1      # The number to be checked\n",
    "    while(count < n):\n",
    "        num +=2 \n",
    "        if is_prime(num):\n",
    "            count +=1\n",
    "    return num\n",
    "\n",
    "def is_prime(num):\n",
    "    factor = 2\n",
    "    while (factor * factor <= num):\n",
    "        if num % factor == 0:\n",
    "             return False\n",
    "        factor +=1\n",
    "    return True"
   ]
  },
  {
   "cell_type": "code",
   "execution_count": 7,
   "metadata": {},
   "outputs": [
    {
     "data": {
      "text/plain": [
       "7"
      ]
     },
     "execution_count": 7,
     "metadata": {},
     "output_type": "execute_result"
    }
   ],
   "source": [
    "nth_prime_number(4)"
   ]
  },
  {
   "cell_type": "code",
   "execution_count": null,
   "metadata": {},
   "outputs": [],
   "source": []
  }
 ],
 "metadata": {
  "kernelspec": {
   "display_name": "Python 3",
   "language": "python",
   "name": "python3"
  },
  "language_info": {
   "codemirror_mode": {
    "name": "ipython",
    "version": 3
   },
   "file_extension": ".py",
   "mimetype": "text/x-python",
   "name": "python",
   "nbconvert_exporter": "python",
   "pygments_lexer": "ipython3",
   "version": "3.7.3"
  }
 },
 "nbformat": 4,
 "nbformat_minor": 2
}

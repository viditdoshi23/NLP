{
  "nbformat": 4,
  "nbformat_minor": 0,
  "metadata": {
    "colab": {
      "name": "J012_Homework.ipynb",
      "provenance": []
    },
    "kernelspec": {
      "name": "python3",
      "display_name": "Python 3"
    }
  },
  "cells": [
    {
      "cell_type": "code",
      "metadata": {
        "id": "gDoJDnI0MSsH",
        "colab_type": "code",
        "colab": {}
      },
      "source": [
        "import pandas as pd"
      ],
      "execution_count": 0,
      "outputs": []
    },
    {
      "cell_type": "code",
      "metadata": {
        "id": "gNfRaagBRtGc",
        "colab_type": "code",
        "colab": {}
      },
      "source": [
        "df = pd.read_json(\"http://snap.stanford.edu/data/amazon/productGraph/categoryFiles/reviews_Office_Products_5.json.gz\", lines=True)\n"
      ],
      "execution_count": 0,
      "outputs": []
    },
    {
      "cell_type": "code",
      "metadata": {
        "id": "58oR2MaaVIG-",
        "colab_type": "code",
        "colab": {}
      },
      "source": [
        "\n",
        "revlist=[]\n",
        "for index, row in df.iterrows():\n",
        " review=row['reviewText']\n",
        " teststring=review\n",
        " a=[]\n",
        " a=teststring.split()\n",
        " wordfreq=[a.count(p) for p in a]\n",
        " revlist.append(dict(zip(a,wordfreq)))\n",
        "df['wordcountreview']=revlist\n",
        "\n"
      ],
      "execution_count": 0,
      "outputs": []
    },
    {
      "cell_type": "code",
      "metadata": {
        "id": "TQH6XGiu3Z6e",
        "colab_type": "code",
        "colab": {}
      },
      "source": [
        "\n",
        "sumlist=[]\n",
        "for index, row in df.iterrows():\n",
        " summary=row['summary']\n",
        " stringsummary=summary\n",
        " b=[]\n",
        " b=stringsummary.split()\n",
        " wordfreq=[b.count(p) for p in b]\n",
        " sumlist.append(dict(zip(b,wordfreq)))\n",
        "df['wordcountsummary']=sumlist"
      ],
      "execution_count": 0,
      "outputs": []
    },
    {
      "cell_type": "code",
      "metadata": {
        "id": "Nr5ljpBb1JXd",
        "colab_type": "code",
        "outputId": "24baaa04-5ab7-4364-bafd-7ded830801e5",
        "colab": {
          "base_uri": "https://localhost:8080/",
          "height": 330
        }
      },
      "source": [
        "df.head()"
      ],
      "execution_count": 8,
      "outputs": [
        {
          "output_type": "execute_result",
          "data": {
            "text/html": [
              "<div>\n",
              "<style scoped>\n",
              "    .dataframe tbody tr th:only-of-type {\n",
              "        vertical-align: middle;\n",
              "    }\n",
              "\n",
              "    .dataframe tbody tr th {\n",
              "        vertical-align: top;\n",
              "    }\n",
              "\n",
              "    .dataframe thead th {\n",
              "        text-align: right;\n",
              "    }\n",
              "</style>\n",
              "<table border=\"1\" class=\"dataframe\">\n",
              "  <thead>\n",
              "    <tr style=\"text-align: right;\">\n",
              "      <th></th>\n",
              "      <th>reviewerID</th>\n",
              "      <th>asin</th>\n",
              "      <th>reviewerName</th>\n",
              "      <th>helpful</th>\n",
              "      <th>reviewText</th>\n",
              "      <th>overall</th>\n",
              "      <th>summary</th>\n",
              "      <th>unixReviewTime</th>\n",
              "      <th>reviewTime</th>\n",
              "      <th>wordcountreview</th>\n",
              "      <th>wordcountsummary</th>\n",
              "    </tr>\n",
              "  </thead>\n",
              "  <tbody>\n",
              "    <tr>\n",
              "      <th>0</th>\n",
              "      <td>A32T2H8150OJLU</td>\n",
              "      <td>B00000JBLH</td>\n",
              "      <td>ARH</td>\n",
              "      <td>[3, 4]</td>\n",
              "      <td>I bought my first HP12C in about 1984 or so, a...</td>\n",
              "      <td>5</td>\n",
              "      <td>A solid performer, and long time friend</td>\n",
              "      <td>1094169600</td>\n",
              "      <td>09 3, 2004</td>\n",
              "      <td>{'I': 7, 'bought': 1, 'my': 4, 'first': 1, 'HP...</td>\n",
              "      <td>{'A': 1, 'solid': 1, 'performer,': 1, 'and': 1...</td>\n",
              "    </tr>\n",
              "    <tr>\n",
              "      <th>1</th>\n",
              "      <td>A3MAFS04ZABRGO</td>\n",
              "      <td>B00000JBLH</td>\n",
              "      <td>Let it Be \"Alan\"</td>\n",
              "      <td>[7, 9]</td>\n",
              "      <td>WHY THIS BELATED REVIEW? I feel very obliged t...</td>\n",
              "      <td>5</td>\n",
              "      <td>Price of GOLD is up, so don't bury the golden ...</td>\n",
              "      <td>1197676800</td>\n",
              "      <td>12 15, 2007</td>\n",
              "      <td>{'WHY': 1, 'THIS': 2, 'BELATED': 1, 'REVIEW?':...</td>\n",
              "      <td>{'Price': 1, 'of': 1, 'GOLD': 1, 'is': 1, 'up,...</td>\n",
              "    </tr>\n",
              "    <tr>\n",
              "      <th>2</th>\n",
              "      <td>A1F1A0QQP2XVH5</td>\n",
              "      <td>B00000JBLH</td>\n",
              "      <td>Mark B</td>\n",
              "      <td>[3, 3]</td>\n",
              "      <td>I have an HP 48GX that has been kicking for mo...</td>\n",
              "      <td>2</td>\n",
              "      <td>Good functionality, but not durable like old HPs</td>\n",
              "      <td>1293840000</td>\n",
              "      <td>01 1, 2011</td>\n",
              "      <td>{'I': 2, 'have': 2, 'an': 2, 'HP': 3, '48GX': ...</td>\n",
              "      <td>{'Good': 1, 'functionality,': 1, 'but': 1, 'no...</td>\n",
              "    </tr>\n",
              "    <tr>\n",
              "      <th>3</th>\n",
              "      <td>A49R5DBXXQDE5</td>\n",
              "      <td>B00000JBLH</td>\n",
              "      <td>R. D Johnson</td>\n",
              "      <td>[7, 8]</td>\n",
              "      <td>I've started doing more finance stuff recently...</td>\n",
              "      <td>5</td>\n",
              "      <td>One of the last of an almost extinct species</td>\n",
              "      <td>1145404800</td>\n",
              "      <td>04 19, 2006</td>\n",
              "      <td>{'I've': 4, 'started': 1, 'doing': 2, 'more': ...</td>\n",
              "      <td>{'One': 1, 'of': 2, 'the': 1, 'last': 1, 'an':...</td>\n",
              "    </tr>\n",
              "    <tr>\n",
              "      <th>4</th>\n",
              "      <td>A2XRMQA6PJ5ZJ8</td>\n",
              "      <td>B00000JBLH</td>\n",
              "      <td>Roger J. Buffington</td>\n",
              "      <td>[0, 0]</td>\n",
              "      <td>For simple calculations and discounted cash fl...</td>\n",
              "      <td>5</td>\n",
              "      <td>Still the best</td>\n",
              "      <td>1375574400</td>\n",
              "      <td>08 4, 2013</td>\n",
              "      <td>{'For': 1, 'simple': 1, 'calculations': 2, 'an...</td>\n",
              "      <td>{'Still': 1, 'the': 1, 'best': 1}</td>\n",
              "    </tr>\n",
              "  </tbody>\n",
              "</table>\n",
              "</div>"
            ],
            "text/plain": [
              "       reviewerID  ...                                   wordcountsummary\n",
              "0  A32T2H8150OJLU  ...  {'A': 1, 'solid': 1, 'performer,': 1, 'and': 1...\n",
              "1  A3MAFS04ZABRGO  ...  {'Price': 1, 'of': 1, 'GOLD': 1, 'is': 1, 'up,...\n",
              "2  A1F1A0QQP2XVH5  ...  {'Good': 1, 'functionality,': 1, 'but': 1, 'no...\n",
              "3   A49R5DBXXQDE5  ...  {'One': 1, 'of': 2, 'the': 1, 'last': 1, 'an':...\n",
              "4  A2XRMQA6PJ5ZJ8  ...                  {'Still': 1, 'the': 1, 'best': 1}\n",
              "\n",
              "[5 rows x 11 columns]"
            ]
          },
          "metadata": {
            "tags": []
          },
          "execution_count": 8
        }
      ]
    },
    {
      "cell_type": "code",
      "metadata": {
        "id": "xvcIPM3Yk_xO",
        "colab_type": "code",
        "colab": {}
      },
      "source": [
        "vowel = ['a','e','i','o','u']"
      ],
      "execution_count": 0,
      "outputs": []
    },
    {
      "cell_type": "code",
      "metadata": {
        "id": "059E4OmWnawF",
        "colab_type": "code",
        "colab": {}
      },
      "source": [
        "def splitr(m):\n",
        "  return list(m)"
      ],
      "execution_count": 0,
      "outputs": []
    },
    {
      "cell_type": "code",
      "metadata": {
        "id": "B83arNpypC4a",
        "colab_type": "code",
        "colab": {}
      },
      "source": [
        "def func(text):\n",
        "  countr = {\"vowel\":0,\"consonant\":0,\"total\":0}\n",
        "  for word in text:\n",
        "    wordrs = splitr(word)\n",
        "    for wordr in wordrs:\n",
        "      if wordr in vowel:\n",
        "        countr[\"vowel\"]+=1\n",
        "      else :\n",
        "        countr[\"consonant\"]+=1\n",
        "      countr[\"total\"]+=1\n",
        "  return countr"
      ],
      "execution_count": 0,
      "outputs": []
    },
    {
      "cell_type": "code",
      "metadata": {
        "id": "ALaUVT8xp0M2",
        "colab_type": "code",
        "colab": {}
      },
      "source": [
        "df['vowelcounter']=df['reviewText'].apply(lambda x:func(x))"
      ],
      "execution_count": 0,
      "outputs": []
    },
    {
      "cell_type": "code",
      "metadata": {
        "id": "n0Y92CJbqevA",
        "colab_type": "code",
        "colab": {
          "base_uri": "https://localhost:8080/",
          "height": 34
        },
        "outputId": "947906b7-f822-4e12-f3ac-3506e43384c1"
      },
      "source": [
        "df['vowelcounter'][1]"
      ],
      "execution_count": 36,
      "outputs": [
        {
          "output_type": "execute_result",
          "data": {
            "text/plain": [
              "{'consonant': 4037, 'total': 5355, 'vowel': 1318}"
            ]
          },
          "metadata": {
            "tags": []
          },
          "execution_count": 36
        }
      ]
    },
    {
      "cell_type": "code",
      "metadata": {
        "id": "jqggFf1PrIJy",
        "colab_type": "code",
        "colab": {
          "base_uri": "https://localhost:8080/",
          "height": 922
        },
        "outputId": "311edb7a-b1d4-4386-92b5-5d99b5ade1e5"
      },
      "source": [
        "df"
      ],
      "execution_count": 37,
      "outputs": [
        {
          "output_type": "execute_result",
          "data": {
            "text/html": [
              "<div>\n",
              "<style scoped>\n",
              "    .dataframe tbody tr th:only-of-type {\n",
              "        vertical-align: middle;\n",
              "    }\n",
              "\n",
              "    .dataframe tbody tr th {\n",
              "        vertical-align: top;\n",
              "    }\n",
              "\n",
              "    .dataframe thead th {\n",
              "        text-align: right;\n",
              "    }\n",
              "</style>\n",
              "<table border=\"1\" class=\"dataframe\">\n",
              "  <thead>\n",
              "    <tr style=\"text-align: right;\">\n",
              "      <th></th>\n",
              "      <th>reviewerID</th>\n",
              "      <th>asin</th>\n",
              "      <th>reviewerName</th>\n",
              "      <th>helpful</th>\n",
              "      <th>reviewText</th>\n",
              "      <th>overall</th>\n",
              "      <th>summary</th>\n",
              "      <th>unixReviewTime</th>\n",
              "      <th>reviewTime</th>\n",
              "      <th>wordcountreview</th>\n",
              "      <th>wordcountsummary</th>\n",
              "      <th>vowelcounter</th>\n",
              "    </tr>\n",
              "  </thead>\n",
              "  <tbody>\n",
              "    <tr>\n",
              "      <th>0</th>\n",
              "      <td>A32T2H8150OJLU</td>\n",
              "      <td>B00000JBLH</td>\n",
              "      <td>ARH</td>\n",
              "      <td>[3, 4]</td>\n",
              "      <td>I bought my first HP12C in about 1984 or so, a...</td>\n",
              "      <td>5</td>\n",
              "      <td>A solid performer, and long time friend</td>\n",
              "      <td>1094169600</td>\n",
              "      <td>09 3, 2004</td>\n",
              "      <td>{'I': 7, 'bought': 1, 'my': 4, 'first': 1, 'HP...</td>\n",
              "      <td>{'A': 1, 'solid': 1, 'performer,': 1, 'and': 1...</td>\n",
              "      <td>{'vowel': 267, 'consonant': 705, 'total': 972}</td>\n",
              "    </tr>\n",
              "    <tr>\n",
              "      <th>1</th>\n",
              "      <td>A3MAFS04ZABRGO</td>\n",
              "      <td>B00000JBLH</td>\n",
              "      <td>Let it Be \"Alan\"</td>\n",
              "      <td>[7, 9]</td>\n",
              "      <td>WHY THIS BELATED REVIEW? I feel very obliged t...</td>\n",
              "      <td>5</td>\n",
              "      <td>Price of GOLD is up, so don't bury the golden ...</td>\n",
              "      <td>1197676800</td>\n",
              "      <td>12 15, 2007</td>\n",
              "      <td>{'WHY': 1, 'THIS': 2, 'BELATED': 1, 'REVIEW?':...</td>\n",
              "      <td>{'Price': 1, 'of': 1, 'GOLD': 1, 'is': 1, 'up,...</td>\n",
              "      <td>{'vowel': 1318, 'consonant': 4037, 'total': 5355}</td>\n",
              "    </tr>\n",
              "    <tr>\n",
              "      <th>2</th>\n",
              "      <td>A1F1A0QQP2XVH5</td>\n",
              "      <td>B00000JBLH</td>\n",
              "      <td>Mark B</td>\n",
              "      <td>[3, 3]</td>\n",
              "      <td>I have an HP 48GX that has been kicking for mo...</td>\n",
              "      <td>2</td>\n",
              "      <td>Good functionality, but not durable like old HPs</td>\n",
              "      <td>1293840000</td>\n",
              "      <td>01 1, 2011</td>\n",
              "      <td>{'I': 2, 'have': 2, 'an': 2, 'HP': 3, '48GX': ...</td>\n",
              "      <td>{'Good': 1, 'functionality,': 1, 'but': 1, 'no...</td>\n",
              "      <td>{'vowel': 132, 'consonant': 363, 'total': 495}</td>\n",
              "    </tr>\n",
              "    <tr>\n",
              "      <th>3</th>\n",
              "      <td>A49R5DBXXQDE5</td>\n",
              "      <td>B00000JBLH</td>\n",
              "      <td>R. D Johnson</td>\n",
              "      <td>[7, 8]</td>\n",
              "      <td>I've started doing more finance stuff recently...</td>\n",
              "      <td>5</td>\n",
              "      <td>One of the last of an almost extinct species</td>\n",
              "      <td>1145404800</td>\n",
              "      <td>04 19, 2006</td>\n",
              "      <td>{'I've': 4, 'started': 1, 'doing': 2, 'more': ...</td>\n",
              "      <td>{'One': 1, 'of': 2, 'the': 1, 'last': 1, 'an':...</td>\n",
              "      <td>{'vowel': 1049, 'consonant': 2599, 'total': 3648}</td>\n",
              "    </tr>\n",
              "    <tr>\n",
              "      <th>4</th>\n",
              "      <td>A2XRMQA6PJ5ZJ8</td>\n",
              "      <td>B00000JBLH</td>\n",
              "      <td>Roger J. Buffington</td>\n",
              "      <td>[0, 0]</td>\n",
              "      <td>For simple calculations and discounted cash fl...</td>\n",
              "      <td>5</td>\n",
              "      <td>Still the best</td>\n",
              "      <td>1375574400</td>\n",
              "      <td>08 4, 2013</td>\n",
              "      <td>{'For': 1, 'simple': 1, 'calculations': 2, 'an...</td>\n",
              "      <td>{'Still': 1, 'the': 1, 'best': 1}</td>\n",
              "      <td>{'vowel': 200, 'consonant': 504, 'total': 704}</td>\n",
              "    </tr>\n",
              "    <tr>\n",
              "      <th>...</th>\n",
              "      <td>...</td>\n",
              "      <td>...</td>\n",
              "      <td>...</td>\n",
              "      <td>...</td>\n",
              "      <td>...</td>\n",
              "      <td>...</td>\n",
              "      <td>...</td>\n",
              "      <td>...</td>\n",
              "      <td>...</td>\n",
              "      <td>...</td>\n",
              "      <td>...</td>\n",
              "      <td>...</td>\n",
              "    </tr>\n",
              "    <tr>\n",
              "      <th>53253</th>\n",
              "      <td>A1ODOGXEYECQQ8</td>\n",
              "      <td>B00KYA0RC2</td>\n",
              "      <td>Nuknuk</td>\n",
              "      <td>[0, 0]</td>\n",
              "      <td>What I like about this scale is you can power ...</td>\n",
              "      <td>4</td>\n",
              "      <td>Portable and very easy to use</td>\n",
              "      <td>1405555200</td>\n",
              "      <td>07 17, 2014</td>\n",
              "      <td>{'What': 1, 'I': 1, 'like': 1, 'about': 1, 'th...</td>\n",
              "      <td>{'Portable': 1, 'and': 1, 'very': 1, 'easy': 1...</td>\n",
              "      <td>{'vowel': 225, 'consonant': 544, 'total': 769}</td>\n",
              "    </tr>\n",
              "    <tr>\n",
              "      <th>53254</th>\n",
              "      <td>A2XX2A4OJCDNLZ</td>\n",
              "      <td>B00KYA0RC2</td>\n",
              "      <td>RatherLiveInKeyWest</td>\n",
              "      <td>[2, 2]</td>\n",
              "      <td>This Accuteck ShipPro digital scale works very...</td>\n",
              "      <td>5</td>\n",
              "      <td>Accuteck ShipPro Digital Postal Scale - Stand-...</td>\n",
              "      <td>1405296000</td>\n",
              "      <td>07 14, 2014</td>\n",
              "      <td>{'This': 1, 'Accuteck': 2, 'ShipPro': 2, 'digi...</td>\n",
              "      <td>{'Accuteck': 1, 'ShipPro': 1, 'Digital': 1, 'P...</td>\n",
              "      <td>{'vowel': 815, 'consonant': 1911, 'total': 2726}</td>\n",
              "    </tr>\n",
              "    <tr>\n",
              "      <th>53255</th>\n",
              "      <td>A3LGT6UZL99IW1</td>\n",
              "      <td>B00KYA0RC2</td>\n",
              "      <td>Richard C. Drew \"Anaal Nathra/Uthe vas Bethod...</td>\n",
              "      <td>[1, 1]</td>\n",
              "      <td>I ship a lot of stuff.  I sell small parts, ma...</td>\n",
              "      <td>5</td>\n",
              "      <td>Extremely accurate, foolproof postal/shipping ...</td>\n",
              "      <td>1405468800</td>\n",
              "      <td>07 16, 2014</td>\n",
              "      <td>{'I': 6, 'ship': 1, 'a': 10, 'lot': 1, 'of': 7...</td>\n",
              "      <td>{'Extremely': 1, 'accurate,': 1, 'foolproof': ...</td>\n",
              "      <td>{'vowel': 411, 'consonant': 1096, 'total': 1507}</td>\n",
              "    </tr>\n",
              "    <tr>\n",
              "      <th>53256</th>\n",
              "      <td>A1XJOSJN6FHFO0</td>\n",
              "      <td>B00KYA0RC2</td>\n",
              "      <td>Shirley Priscilla  Johnson \"Author/Reviewer -...</td>\n",
              "      <td>[0, 0]</td>\n",
              "      <td>This is a great little scale to have. It can w...</td>\n",
              "      <td>5</td>\n",
              "      <td>Fast, Easy and Accurate</td>\n",
              "      <td>1405814400</td>\n",
              "      <td>07 20, 2014</td>\n",
              "      <td>{'This': 1, 'is': 4, 'a': 5, 'great': 2, 'litt...</td>\n",
              "      <td>{'Fast,': 1, 'Easy': 1, 'and': 1, 'Accurate': 1}</td>\n",
              "      <td>{'vowel': 222, 'consonant': 509, 'total': 731}</td>\n",
              "    </tr>\n",
              "    <tr>\n",
              "      <th>53257</th>\n",
              "      <td>AAEVGE52KL0DJ</td>\n",
              "      <td>B00KYA0RC2</td>\n",
              "      <td>Tim</td>\n",
              "      <td>[3, 4]</td>\n",
              "      <td>When asked to review this scale, I almost decl...</td>\n",
              "      <td>4</td>\n",
              "      <td>Great Value on a Good Postal Scale</td>\n",
              "      <td>1404604800</td>\n",
              "      <td>07 6, 2014</td>\n",
              "      <td>{'When': 1, 'asked': 1, 'to': 9, 'review': 1, ...</td>\n",
              "      <td>{'Great': 1, 'Value': 1, 'on': 1, 'a': 1, 'Goo...</td>\n",
              "      <td>{'vowel': 564, 'consonant': 1340, 'total': 1904}</td>\n",
              "    </tr>\n",
              "  </tbody>\n",
              "</table>\n",
              "<p>53258 rows × 12 columns</p>\n",
              "</div>"
            ],
            "text/plain": [
              "           reviewerID  ...                                       vowelcounter\n",
              "0      A32T2H8150OJLU  ...     {'vowel': 267, 'consonant': 705, 'total': 972}\n",
              "1      A3MAFS04ZABRGO  ...  {'vowel': 1318, 'consonant': 4037, 'total': 5355}\n",
              "2      A1F1A0QQP2XVH5  ...     {'vowel': 132, 'consonant': 363, 'total': 495}\n",
              "3       A49R5DBXXQDE5  ...  {'vowel': 1049, 'consonant': 2599, 'total': 3648}\n",
              "4      A2XRMQA6PJ5ZJ8  ...     {'vowel': 200, 'consonant': 504, 'total': 704}\n",
              "...               ...  ...                                                ...\n",
              "53253  A1ODOGXEYECQQ8  ...     {'vowel': 225, 'consonant': 544, 'total': 769}\n",
              "53254  A2XX2A4OJCDNLZ  ...   {'vowel': 815, 'consonant': 1911, 'total': 2726}\n",
              "53255  A3LGT6UZL99IW1  ...   {'vowel': 411, 'consonant': 1096, 'total': 1507}\n",
              "53256  A1XJOSJN6FHFO0  ...     {'vowel': 222, 'consonant': 509, 'total': 731}\n",
              "53257   AAEVGE52KL0DJ  ...   {'vowel': 564, 'consonant': 1340, 'total': 1904}\n",
              "\n",
              "[53258 rows x 12 columns]"
            ]
          },
          "metadata": {
            "tags": []
          },
          "execution_count": 37
        }
      ]
    },
    {
      "cell_type": "code",
      "metadata": {
        "id": "Ri2h_Vt9rUnz",
        "colab_type": "code",
        "colab": {}
      },
      "source": [
        ""
      ],
      "execution_count": 0,
      "outputs": []
    }
  ]
}